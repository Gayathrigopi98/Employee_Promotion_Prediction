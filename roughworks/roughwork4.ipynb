{
 "cells": [
  {
   "cell_type": "code",
   "execution_count": 1,
   "id": "6ccb1bef-5706-4eeb-8147-68cc87b8a87b",
   "metadata": {},
   "outputs": [],
   "source": [
    "#import libraries\n",
    "import pandas as pd\n",
    "import numpy as np\n",
    "from sklearn.model_selection import train_test_split,GridSearchCV\n",
    "from sklearn.pipeline import Pipeline\n",
    "from sklearn.compose import ColumnTransformer\n",
    "from sklearn.impute import SimpleImputer\n",
    "from sklearn.preprocessing import StandardScaler,OneHotEncoder\n",
    "from sklearn.neighbors import KNeighborsClassifier\n",
    "\n",
    "from sklearn.metrics import f1_score,classification_report,accuracy_score\n",
    "\n",
    "from imblearn.under_sampling import RandomUnderSampler\n",
    "from imblearn.over_sampling import RandomOverSampler\n",
    "\n",
    "import warnings\n",
    "warnings.filterwarnings('ignore')"
   ]
  },
  {
   "cell_type": "code",
   "execution_count": 3,
   "id": "cf4ab231-8cc2-4f59-af0b-3681f2f01e7c",
   "metadata": {},
   "outputs": [],
   "source": [
    "from xgboost import XGBClassifier"
   ]
  },
  {
   "cell_type": "code",
   "execution_count": 5,
   "id": "f070c8a4-fcea-4ca8-bdd0-54a2d873d79b",
   "metadata": {},
   "outputs": [],
   "source": [
    "#Load Data\n",
    "train = pd.read_csv(r\"C:\\Users\\infan\\OneDrive\\Desktop\\Gayathri\\dataset\\Promotion_prediction_data\\train.csv\")\n",
    "test=pd.read_csv(r\"C:\\Users\\infan\\OneDrive\\Desktop\\Gayathri\\dataset\\Promotion_prediction_data\\test.csv\")\n",
    "submission_data=pd.read_csv(r\"C:\\Users\\infan\\OneDrive\\Desktop\\Gayathri\\dataset\\Promotion_prediction_data\\sample_submission.csv\")"
   ]
  },
  {
   "cell_type": "code",
   "execution_count": 7,
   "id": "10d6e22a-e108-4abd-b5e4-724e7a414dea",
   "metadata": {},
   "outputs": [],
   "source": [
    "#columns based on datatypes seperated\n",
    "ignore_col=['employee_id']\n",
    "target_col=['is_promoted']\n",
    "num_col=[]\n",
    "cat_col=[]\n",
    "for col in train.columns:\n",
    "    if col not in ignore_col + target_col:\n",
    "        if train[col].dtypes == 'object':\n",
    "            cat_col.append(col)\n",
    "        else:\n",
    "            num_col.append(col)"
   ]
  },
  {
   "cell_type": "code",
   "execution_count": 9,
   "id": "c411b924-dd03-4072-970e-89ace2309649",
   "metadata": {},
   "outputs": [],
   "source": [
    "#categorical and numerical columns imputed and encoded\n",
    "#categorical columns imputed by mode and encoded by onehotencoder\n",
    "#numerical columns imputed by median and encoded by standardscalar\n",
    "cat_pipe_encode=Pipeline(\n",
    "    steps=[\n",
    "    ('impute',SimpleImputer(strategy='most_frequent')),\n",
    "    ('ohe',OneHotEncoder(handle_unknown='ignore'))\n",
    "])\n",
    "num_pip_encode=Pipeline(\n",
    "    steps=[\n",
    "    ('impute',SimpleImputer(strategy='median')),\n",
    "    ('standardscalar',StandardScaler())\n",
    "])\n",
    "## map tranformation to features\n",
    "preprocess=ColumnTransformer(\n",
    "    transformers=[\n",
    "        ('cat_encode',cat_pipe_encode,cat_col),\n",
    "        ('num_encode',num_pip_encode,num_col)\n",
    "    ]\n",
    ")"
   ]
  },
  {
   "cell_type": "code",
   "execution_count": 11,
   "id": "0ebdcb05-c23b-470b-b123-ac38d674c921",
   "metadata": {},
   "outputs": [],
   "source": [
    "X=train.drop(columns=target_col+ignore_col)\n",
    "y=train[target_col]"
   ]
  },
  {
   "cell_type": "code",
   "execution_count": 13,
   "id": "bac3721b-dc18-4294-95c3-816c7aef4d74",
   "metadata": {},
   "outputs": [],
   "source": [
    "train_X, val_X, train_y, val_y = train_test_split(X,y,random_state=42, test_size=0.3)"
   ]
  },
  {
   "cell_type": "code",
   "execution_count": 15,
   "id": "4a024490-747e-44c3-aaa7-750f2cdbc905",
   "metadata": {},
   "outputs": [],
   "source": [
    "def evalution(train_X,train_y,val_X,val_y,model):\n",
    "    predicted_train_tgt = model.predict(train_X)\n",
    "    predicted_val_tgt = model.predict(val_X)\n",
    "    \n",
    "    # print(\"accuracy score train\",accuracy_score(train_y,predicted_train_tgt))\n",
    "    # print(\"accuracy score test\",accuracy_score(val_y,predicted_val_tgt))\n",
    "    \n",
    "    print(\"f1score train\",f1_score(train_y,predicted_train_tgt))\n",
    "    print(\"f1score test\",f1_score(val_y,predicted_val_tgt))\n",
    "    \n",
    "    # print(\"classification train \\n\",classification_report(train_y,predicted_train_tgt))\n",
    "    # print(\"classification test \\n\",classification_report(val_y,predicted_val_tgt))"
   ]
  },
  {
   "cell_type": "code",
   "execution_count": null,
   "id": "0eeb4318-b1c0-4859-9bc4-856887fbdf0b",
   "metadata": {},
   "outputs": [],
   "source": []
  },
  {
   "cell_type": "code",
   "execution_count": 117,
   "id": "f7fb105d-b568-4d4b-80e2-a28acc79e40d",
   "metadata": {},
   "outputs": [
    {
     "name": "stdout",
     "output_type": "stream",
     "text": [
      "f1score train 0.535850657615613\n",
      "f1score test 0.5005302226935313\n"
     ]
    }
   ],
   "source": [
    "model = Pipeline(\n",
    "    steps=[\n",
    "        ('preprocess', preprocess),\n",
    "        ('model', XGBClassifier(\n",
    "            colsample_bytree=0.4,\n",
    "            gamma=0.111,\n",
    "            learning_rate=0.4555,\n",
    "            max_depth=2,\n",
    "            n_estimators=950,\n",
    "            subsample=0.6\n",
    "        ))\n",
    "    ]\n",
    ")\n",
    "\n",
    "model.fit(train_X, train_y)\n",
    "evalution(train_X, train_y, val_X, val_y, model)"
   ]
  },
  {
   "cell_type": "code",
   "execution_count": 118,
   "id": "9fefaebf-71e4-4e21-91c8-8e8a67756887",
   "metadata": {},
   "outputs": [],
   "source": [
    "submission_data['is_promoted']=model.predict(test)\n",
    "submission_data.to_csv('model.csv', index=False)"
   ]
  },
  {
   "cell_type": "code",
   "execution_count": null,
   "id": "1489f1ec-e1ce-4a71-8719-896a19103f95",
   "metadata": {},
   "outputs": [],
   "source": [
    "Your Score is 0.4991119005328597\n",
    "Congratulations you are placed #904 on the leader board\n",
    "\n",
    "model = Pipeline(\n",
    "    steps=[\n",
    "        ('preprocess', preprocess),\n",
    "        ('model', XGBClassifier(\n",
    "            colsample_bytree=0.6,\n",
    "            gamma=0,\n",
    "            learning_rate=0.4555,\n",
    "            max_depth=2,\n",
    "            n_estimators=950,\n",
    "            subsample=0.6\n",
    "        ))\n",
    "    ]\n",
    ")\n",
    "\n",
    "model.fit(train_X, train_y)\n",
    "evalution(train_X, train_y, val_X, val_y, model)\n"
   ]
  },
  {
   "cell_type": "code",
   "execution_count": 147,
   "id": "de6c7c6d-7b07-43e5-b971-c0f89145e48f",
   "metadata": {},
   "outputs": [
    {
     "name": "stdout",
     "output_type": "stream",
     "text": [
      "is_promoted\n",
      "0    8481\n",
      "1    8481\n",
      "Name: count, dtype: int64\n"
     ]
    },
    {
     "data": {
      "text/html": [
       "<div>\n",
       "<style scoped>\n",
       "    .dataframe tbody tr th:only-of-type {\n",
       "        vertical-align: middle;\n",
       "    }\n",
       "\n",
       "    .dataframe tbody tr th {\n",
       "        vertical-align: top;\n",
       "    }\n",
       "\n",
       "    .dataframe thead th {\n",
       "        text-align: right;\n",
       "    }\n",
       "</style>\n",
       "<table border=\"1\" class=\"dataframe\">\n",
       "  <thead>\n",
       "    <tr style=\"text-align: right;\">\n",
       "      <th></th>\n",
       "      <th>department</th>\n",
       "      <th>region</th>\n",
       "      <th>education</th>\n",
       "      <th>gender</th>\n",
       "      <th>recruitment_channel</th>\n",
       "      <th>no_of_trainings</th>\n",
       "      <th>age</th>\n",
       "      <th>previous_year_rating</th>\n",
       "      <th>length_of_service</th>\n",
       "      <th>KPIs_met &gt;80%</th>\n",
       "      <th>awards_won?</th>\n",
       "      <th>avg_training_score</th>\n",
       "      <th>is_promoted</th>\n",
       "    </tr>\n",
       "  </thead>\n",
       "  <tbody>\n",
       "    <tr>\n",
       "      <th>0</th>\n",
       "      <td>Finance</td>\n",
       "      <td>region_15</td>\n",
       "      <td>Bachelor's</td>\n",
       "      <td>m</td>\n",
       "      <td>sourcing</td>\n",
       "      <td>1</td>\n",
       "      <td>37</td>\n",
       "      <td>5.0</td>\n",
       "      <td>9</td>\n",
       "      <td>1</td>\n",
       "      <td>0</td>\n",
       "      <td>62</td>\n",
       "      <td>0</td>\n",
       "    </tr>\n",
       "    <tr>\n",
       "      <th>1</th>\n",
       "      <td>Sales &amp; Marketing</td>\n",
       "      <td>region_23</td>\n",
       "      <td>Bachelor's</td>\n",
       "      <td>m</td>\n",
       "      <td>other</td>\n",
       "      <td>1</td>\n",
       "      <td>26</td>\n",
       "      <td>5.0</td>\n",
       "      <td>2</td>\n",
       "      <td>0</td>\n",
       "      <td>0</td>\n",
       "      <td>59</td>\n",
       "      <td>1</td>\n",
       "    </tr>\n",
       "    <tr>\n",
       "      <th>2</th>\n",
       "      <td>Operations</td>\n",
       "      <td>region_2</td>\n",
       "      <td>Below Secondary</td>\n",
       "      <td>m</td>\n",
       "      <td>sourcing</td>\n",
       "      <td>3</td>\n",
       "      <td>25</td>\n",
       "      <td>5.0</td>\n",
       "      <td>2</td>\n",
       "      <td>1</td>\n",
       "      <td>0</td>\n",
       "      <td>61</td>\n",
       "      <td>0</td>\n",
       "    </tr>\n",
       "    <tr>\n",
       "      <th>3</th>\n",
       "      <td>Procurement</td>\n",
       "      <td>region_22</td>\n",
       "      <td>Master's &amp; above</td>\n",
       "      <td>m</td>\n",
       "      <td>other</td>\n",
       "      <td>1</td>\n",
       "      <td>31</td>\n",
       "      <td>5.0</td>\n",
       "      <td>5</td>\n",
       "      <td>1</td>\n",
       "      <td>0</td>\n",
       "      <td>67</td>\n",
       "      <td>1</td>\n",
       "    </tr>\n",
       "    <tr>\n",
       "      <th>4</th>\n",
       "      <td>Sales &amp; Marketing</td>\n",
       "      <td>region_22</td>\n",
       "      <td>Bachelor's</td>\n",
       "      <td>m</td>\n",
       "      <td>other</td>\n",
       "      <td>2</td>\n",
       "      <td>25</td>\n",
       "      <td>NaN</td>\n",
       "      <td>1</td>\n",
       "      <td>0</td>\n",
       "      <td>0</td>\n",
       "      <td>50</td>\n",
       "      <td>0</td>\n",
       "    </tr>\n",
       "  </tbody>\n",
       "</table>\n",
       "</div>"
      ],
      "text/plain": [
       "          department     region         education gender recruitment_channel  \\\n",
       "0            Finance  region_15        Bachelor's      m            sourcing   \n",
       "1  Sales & Marketing  region_23        Bachelor's      m               other   \n",
       "2         Operations   region_2   Below Secondary      m            sourcing   \n",
       "3        Procurement  region_22  Master's & above      m               other   \n",
       "4  Sales & Marketing  region_22        Bachelor's      m               other   \n",
       "\n",
       "   no_of_trainings  age  previous_year_rating  length_of_service  \\\n",
       "0                1   37                   5.0                  9   \n",
       "1                1   26                   5.0                  2   \n",
       "2                3   25                   5.0                  2   \n",
       "3                1   31                   5.0                  5   \n",
       "4                2   25                   NaN                  1   \n",
       "\n",
       "   KPIs_met >80%  awards_won?  avg_training_score  is_promoted  \n",
       "0              1            0                  62            0  \n",
       "1              0            0                  59            1  \n",
       "2              1            0                  61            0  \n",
       "3              1            0                  67            1  \n",
       "4              0            0                  50            0  "
      ]
     },
     "execution_count": 147,
     "metadata": {},
     "output_type": "execute_result"
    }
   ],
   "source": [
    "over_sampling=RandomOverSampler()\n",
    "train_X_over_sampled,train_y_over_sampled=over_sampling.fit_resample(train_X,train_y)\n",
    "over_balanced_data=pd.concat([train_X_over_sampled,train_y_over_sampled] , axis =1)\n",
    "print(over_balanced_data['is_promoted'].value_counts())\n",
    "over_balanced_data.head()\n",
    "\n",
    "# train_X, val_X, train_y, val_y = train_test_split(train_X_over_sampled,train_y_over_sampled,random_state=42, test_size=0.3)\n",
    "\n",
    "# model.fit(train_X_over_sampled, train_y_over_sampled)\n",
    "# evalution(train_X_over_sampled, train_y_over_sampled, val_X, val_y, model)\n",
    "\n",
    "# submission_data['is_promoted']=model.predict(test)\n",
    "# submission_data.to_csv('model.csv', index=False)"
   ]
  },
  {
   "cell_type": "code",
   "execution_count": 153,
   "id": "438e3a9c-d1aa-4f32-9e1d-fe5989391b17",
   "metadata": {},
   "outputs": [
    {
     "name": "stdout",
     "output_type": "stream",
     "text": [
      "is_promoted\n",
      "0    5863\n",
      "1    5863\n",
      "Name: count, dtype: int64\n",
      "f1score train 0.8874465987512323\n",
      "f1score test 0.8773796192609182\n"
     ]
    }
   ],
   "source": [
    "under_sampling=RandomUnderSampler()\n",
    "train_X_under_sampled,train_y_under_sampled=under_sampling.fit_resample(train_X,train_y)\n",
    "under_balanced_data=pd.concat([train_X_under_sampled,train_y_under_sampled] , axis =1)\n",
    "print(under_balanced_data['is_promoted'].value_counts())\n",
    "under_balanced_data.head()\n",
    "\n",
    "train_X, val_X, train_y, val_y = train_test_split(train_X_under_sampled,train_y_under_sampled,random_state=42, test_size=0.3)\n",
    "\n",
    "model.fit(train_X_under_sampled, train_y_under_sampled)\n",
    "evalution(train_X_under_sampled, train_y_under_sampled, val_X, val_y, model)\n",
    "\n",
    "submission_data['is_promoted']=model.predict(test)\n",
    "submission_data.to_csv('model.csv', index=False)"
   ]
  },
  {
   "cell_type": "code",
   "execution_count": null,
   "id": "fd81c64a-29d7-4f7b-8340-a92f375b3e11",
   "metadata": {},
   "outputs": [],
   "source": []
  }
 ],
 "metadata": {
  "kernelspec": {
   "display_name": "Python 3 (ipykernel)",
   "language": "python",
   "name": "python3"
  },
  "language_info": {
   "codemirror_mode": {
    "name": "ipython",
    "version": 3
   },
   "file_extension": ".py",
   "mimetype": "text/x-python",
   "name": "python",
   "nbconvert_exporter": "python",
   "pygments_lexer": "ipython3",
   "version": "3.12.7"
  }
 },
 "nbformat": 4,
 "nbformat_minor": 5
}
